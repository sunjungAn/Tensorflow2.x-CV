{
  "nbformat": 4,
  "nbformat_minor": 0,
  "metadata": {
    "colab": {
      "name": "Tensorflow 기초.ipynb",
      "provenance": []
    },
    "kernelspec": {
      "name": "python3",
      "display_name": "Python 3"
    },
    "language_info": {
      "name": "python"
    }
  },
  "cells": [
    {
      "cell_type": "markdown",
      "metadata": {
        "id": "uOaBd2c9Y4FP"
      },
      "source": [
        "# tensorflow 주요 아키텍처\n",
        "\n",
        "+ 고수준 API : 케라스, 에스티메이터API\n",
        "+ 저수준 API : Python wrapper (tf.nn)\n",
        "+ C++ Tensorflow : c++ 계층\n",
        "\n",
        "\n",
        "### 데이터 준비(MNIST)"
      ]
    },
    {
      "cell_type": "code",
      "metadata": {
        "colab": {
          "base_uri": "https://localhost:8080/"
        },
        "id": "JHp1ENzqZM2c",
        "outputId": "5d9a1ab2-d38f-4cd0-9a03-8f9315456657"
      },
      "source": [
        "import tensorflow as tf\n",
        "\n",
        "num_classes =10 \n",
        "img_rows, img_cols = 28,28\n",
        "num_channels =1\n",
        "input_shape = (img_rows, img_cols, num_channels)\n",
        "\n",
        "(x_train, y_train),(x_test, y_test) = tf.keras.datasets.mnist.load_data()\n",
        "x_train, x_test = x_train/ 255.0, x_test/255.0"
      ],
      "execution_count": 1,
      "outputs": [
        {
          "output_type": "stream",
          "text": [
            "Downloading data from https://storage.googleapis.com/tensorflow/tf-keras-datasets/mnist.npz\n",
            "11493376/11490434 [==============================] - 0s 0us/step\n"
          ],
          "name": "stdout"
        }
      ]
    },
    {
      "cell_type": "markdown",
      "metadata": {
        "id": "DuMFlS3UZ3oi"
      },
      "source": [
        "tf.keras.datasets 모듈은 고전적인 데이터셋을 내려 받고 인스턴스화하기 위해 빠르게 접근할 수 있게 지원한다."
      ]
    },
    {
      "cell_type": "markdown",
      "metadata": {
        "id": "Mb4VTbiEaHzw"
      },
      "source": [
        "### 모델 구성"
      ]
    },
    {
      "cell_type": "code",
      "metadata": {
        "id": "2BwkIbJuaKKU"
      },
      "source": [
        "model = tf.keras.models.Sequential()\n",
        "model.add(tf.keras.layers.Flatten()) # (28x28) --> (1 x 784)\n",
        "model.add(tf.keras.layers.Dense(128, activation = 'relu')) # (1 x 784) x (784 * 128) --> (1* 128)\n",
        "model.add(tf.keras.layers.Dense(num_classes, activation = 'softmax')) #(1 * 128) x (128 * num_classes) --> (1 * numclasses)"
      ],
      "execution_count": 3,
      "outputs": []
    },
    {
      "cell_type": "markdown",
      "metadata": {
        "id": "WU-TauR_bVxy"
      },
      "source": [
        "### 모델 훈련"
      ]
    },
    {
      "cell_type": "code",
      "metadata": {
        "colab": {
          "base_uri": "https://localhost:8080/"
        },
        "id": "YfXFXGOlbEw9",
        "outputId": "32ff5ef3-976f-43d8-8960-a6e70d92a7aa"
      },
      "source": [
        "model.compile(optimizer = 'sgd', loss = 'sparse_categorical_crossentropy', metrics = ['accuracy'])\n",
        "model.fit(x_train, y_train, epochs = 5, verbose = 1, validation_data = (x_test, y_test)) "
      ],
      "execution_count": 7,
      "outputs": [
        {
          "output_type": "stream",
          "text": [
            "Epoch 1/5\n",
            "1875/1875 [==============================] - 5s 2ms/step - loss: 0.6341 - accuracy: 0.8426 - val_loss: 0.3541 - val_accuracy: 0.9028\n",
            "Epoch 2/5\n",
            "1875/1875 [==============================] - 4s 2ms/step - loss: 0.3378 - accuracy: 0.9053 - val_loss: 0.2939 - val_accuracy: 0.9163\n",
            "Epoch 3/5\n",
            "1875/1875 [==============================] - 4s 2ms/step - loss: 0.2901 - accuracy: 0.9181 - val_loss: 0.2600 - val_accuracy: 0.9281\n",
            "Epoch 4/5\n",
            "1875/1875 [==============================] - 5s 3ms/step - loss: 0.2603 - accuracy: 0.9263 - val_loss: 0.2385 - val_accuracy: 0.9315\n",
            "Epoch 5/5\n",
            "1875/1875 [==============================] - 5s 3ms/step - loss: 0.2370 - accuracy: 0.9340 - val_loss: 0.2211 - val_accuracy: 0.9384\n"
          ],
          "name": "stdout"
        },
        {
          "output_type": "execute_result",
          "data": {
            "text/plain": [
              "<tensorflow.python.keras.callbacks.History at 0x7f1eeb233f50>"
            ]
          },
          "metadata": {
            "tags": []
          },
          "execution_count": 7
        }
      ]
    },
    {
      "cell_type": "markdown",
      "metadata": {
        "id": "R4uAA1oEgJzG"
      },
      "source": [
        "### 모델 구성 보기"
      ]
    },
    {
      "cell_type": "code",
      "metadata": {
        "colab": {
          "base_uri": "https://localhost:8080/"
        },
        "id": "YwZ6v0DAgGH8",
        "outputId": "8fc4caa3-6dc0-4d40-d9a0-798a77b38b84"
      },
      "source": [
        "model.summary()"
      ],
      "execution_count": 13,
      "outputs": [
        {
          "output_type": "stream",
          "text": [
            "Model: \"sequential_1\"\n",
            "_________________________________________________________________\n",
            "Layer (type)                 Output Shape              Param #   \n",
            "=================================================================\n",
            "flatten_1 (Flatten)          (None, 784)               0         \n",
            "_________________________________________________________________\n",
            "dense_2 (Dense)              (None, 128)               100480    \n",
            "_________________________________________________________________\n",
            "dense_3 (Dense)              (None, 10)                1290      \n",
            "=================================================================\n",
            "Total params: 101,770\n",
            "Trainable params: 101,770\n",
            "Non-trainable params: 0\n",
            "_________________________________________________________________\n"
          ],
          "name": "stdout"
        }
      ]
    },
    {
      "cell_type": "markdown",
      "metadata": {
        "id": "Drr8Nax4b-dA"
      },
      "source": [
        "# Tensorflow 2와 케라스\n",
        "\n",
        "+ tensor: N차원 배열로 생각할 수 있음\n",
        "+ 고정값: tf.constant\n",
        "+ 변경되는 값: tf.Variable\n",
        "----------------------------------------------------------------\n",
        "- 타입: string, float32, float16, int8\n",
        "- 형상: ()이면 스칼라고, (n)이면 크기가 n인 벡터, (n,m)이면 크기가 nxm인 2차원 행렬\n",
        "- 순위: 차원 개수, 0이면 스칼라, 1이면 벡터, 2이면 2차원 행렬이다. \n",
        "\n",
        "### 텐서플로 그래프\n",
        "입력과 출력으로 텐서를 사용, 그래프를 사용해 연산을 표현한다.\n",
        "+ 장점\n",
        "  > CPU에서 일부 연산을 실행하고 GPU에서 남은 연산을 실행한다.\n",
        "\n",
        "  > 분산 모델의 경우 그래프의 다양한 부분을 여러 다른 컴퓨터에서 실행한다.\n",
        "  \n",
        "  > 불필요한 연산을 피하기 위해 그래프를 최적화해 계산 성능을 개선한다.\n"
      ]
    },
    {
      "cell_type": "code",
      "metadata": {
        "colab": {
          "base_uri": "https://localhost:8080/"
        },
        "id": "Ax3t46A5cAYq",
        "outputId": "02d9bf8f-c14e-4502-dd1d-691c6a9f562b"
      },
      "source": [
        "a  = tf.constant([1,2,3])\n",
        "b = tf.constant([0,0,1])\n",
        "c = tf.add(a,b)\n",
        "print(c)"
      ],
      "execution_count": 9,
      "outputs": [
        {
          "output_type": "stream",
          "text": [
            "tf.Tensor([1 2 4], shape=(3,), dtype=int32)\n"
          ],
          "name": "stdout"
        }
      ]
    },
    {
      "cell_type": "markdown",
      "metadata": {
        "id": "ZH0M1N-Ndms7"
      },
      "source": [
        "### 텐서플로2 그래프 생성"
      ]
    },
    {
      "cell_type": "code",
      "metadata": {
        "id": "4K2U2Tziel1j"
      },
      "source": [
        "def compute(a,b,c):\n",
        "  d = a*b+c\n",
        "  e = a*b*c\n",
        "  return d,e"
      ],
      "execution_count": 10,
      "outputs": []
    },
    {
      "cell_type": "markdown",
      "metadata": {
        "id": "dq2YMZgoewT3"
      },
      "source": [
        "tensorflow2에서는 모든 연산이 정의되는 시점에 실행됨\n",
        "\n",
        "### 텐서플로 오토프래프와 tf.function"
      ]
    },
    {
      "cell_type": "code",
      "metadata": {
        "id": "jJiZ3ESRevt1"
      },
      "source": [
        "@tf.function\n",
        "def compute(a,b,c):\n",
        "  d = a*b+c\n",
        "  e = a*b*c\n",
        "  return d,e"
      ],
      "execution_count": 12,
      "outputs": []
    },
    {
      "cell_type": "markdown",
      "metadata": {
        "id": "h00SXpGSfedG"
      },
      "source": [
        "@tf.function을 함으로써 tensorflow2에서 그래프를 투명하게 생성한다. \n",
        "--> 그래프를 최적화한다.\n",
        "\n",
        "#### 오토그래프를 사용할때\n",
        "+ 모델을 다른 기기로 내보내야 할 때\n",
        "+ 성능이 무엇보다 중요하고 그래프 최적화를 통해 속도 개선이 가능할 때\n",
        "\n",
        "### 자동 미분\n",
        "+ 그래프의 장점으로 자동 미분이 가능하다. --> \"Gradient tape\"\n"
      ]
    }
  ]
}