{
  "nbformat": 4,
  "nbformat_minor": 0,
  "metadata": {
    "colab": {
      "name": "Tensorflow 기초.ipynb",
      "provenance": [],
      "collapsed_sections": []
    },
    "kernelspec": {
      "name": "python3",
      "display_name": "Python 3"
    },
    "language_info": {
      "name": "python"
    }
  },
  "cells": [
    {
      "cell_type": "markdown",
      "metadata": {
        "id": "uOaBd2c9Y4FP"
      },
      "source": [
        "# tensorflow 주요 아키텍처\n",
        "\n",
        "+ 고수준 API : 케라스, 에스티메이터API\n",
        "+ 저수준 API : Python wrapper (tf.nn)\n",
        "+ C++ Tensorflow : c++ 계층\n",
        "\n",
        "\n",
        "### 데이터 준비(MNIST)"
      ]
    },
    {
      "cell_type": "code",
      "metadata": {
        "colab": {
          "base_uri": "https://localhost:8080/"
        },
        "id": "JHp1ENzqZM2c",
        "outputId": "b2ca9013-7e7e-48b4-cceb-ccaddf054a46"
      },
      "source": [
        "import tensorflow as tf\n",
        "\n",
        "num_classes =10 \n",
        "img_rows, img_cols = 28,28\n",
        "num_channels =1\n",
        "input_shape = (img_rows, img_cols, num_channels)\n",
        "\n",
        "(x_train, y_train),(x_test, y_test) = tf.keras.datasets.mnist.load_data()\n",
        "x_train, x_test = x_train/ 255.0, x_test/255.0"
      ],
      "execution_count": 1,
      "outputs": [
        {
          "output_type": "stream",
          "text": [
            "Downloading data from https://storage.googleapis.com/tensorflow/tf-keras-datasets/mnist.npz\n",
            "11493376/11490434 [==============================] - 0s 0us/step\n"
          ],
          "name": "stdout"
        }
      ]
    },
    {
      "cell_type": "markdown",
      "metadata": {
        "id": "DuMFlS3UZ3oi"
      },
      "source": [
        "tf.keras.datasets 모듈은 고전적인 데이터셋을 내려 받고 인스턴스화하기 위해 빠르게 접근할 수 있게 지원한다."
      ]
    },
    {
      "cell_type": "markdown",
      "metadata": {
        "id": "Mb4VTbiEaHzw"
      },
      "source": [
        "### 모델 구성"
      ]
    },
    {
      "cell_type": "code",
      "metadata": {
        "id": "2BwkIbJuaKKU"
      },
      "source": [
        "model = tf.keras.models.Sequential()\n",
        "model.add(tf.keras.layers.Flatten()) # (28x28) --> (1 x 784)\n",
        "model.add(tf.keras.layers.Dense(128, activation = 'relu')) # (1 x 784) x (784 * 128) --> (1* 128)\n",
        "model.add(tf.keras.layers.Dense(num_classes, activation = 'softmax')) #(1 * 128) x (128 * num_classes) --> (1 * numclasses)"
      ],
      "execution_count": 2,
      "outputs": []
    },
    {
      "cell_type": "markdown",
      "metadata": {
        "id": "WU-TauR_bVxy"
      },
      "source": [
        "### 모델 훈련"
      ]
    },
    {
      "cell_type": "code",
      "metadata": {
        "colab": {
          "base_uri": "https://localhost:8080/"
        },
        "id": "YfXFXGOlbEw9",
        "outputId": "a058c141-896c-4891-e4d7-120e341da69a"
      },
      "source": [
        "model.compile(optimizer = 'sgd', loss = 'sparse_categorical_crossentropy', metrics = ['accuracy'])\n",
        "model.fit(x_train, y_train, epochs = 5, verbose = 1, validation_data = (x_test, y_test)) "
      ],
      "execution_count": 3,
      "outputs": [
        {
          "output_type": "stream",
          "text": [
            "Epoch 1/5\n",
            "1875/1875 [==============================] - 5s 2ms/step - loss: 0.6569 - accuracy: 0.8341 - val_loss: 0.3575 - val_accuracy: 0.9047\n",
            "Epoch 2/5\n",
            "1875/1875 [==============================] - 4s 2ms/step - loss: 0.3353 - accuracy: 0.9070 - val_loss: 0.2929 - val_accuracy: 0.9173\n",
            "Epoch 3/5\n",
            "1875/1875 [==============================] - 4s 2ms/step - loss: 0.2856 - accuracy: 0.9204 - val_loss: 0.2590 - val_accuracy: 0.9270\n",
            "Epoch 4/5\n",
            "1875/1875 [==============================] - 4s 2ms/step - loss: 0.2552 - accuracy: 0.9284 - val_loss: 0.2376 - val_accuracy: 0.9346\n",
            "Epoch 5/5\n",
            "1875/1875 [==============================] - 4s 2ms/step - loss: 0.2328 - accuracy: 0.9354 - val_loss: 0.2182 - val_accuracy: 0.9378\n"
          ],
          "name": "stdout"
        },
        {
          "output_type": "execute_result",
          "data": {
            "text/plain": [
              "<tensorflow.python.keras.callbacks.History at 0x7f46c4f89450>"
            ]
          },
          "metadata": {
            "tags": []
          },
          "execution_count": 3
        }
      ]
    },
    {
      "cell_type": "markdown",
      "metadata": {
        "id": "R4uAA1oEgJzG"
      },
      "source": [
        "### 모델 구성 보기"
      ]
    },
    {
      "cell_type": "code",
      "metadata": {
        "colab": {
          "base_uri": "https://localhost:8080/"
        },
        "id": "YwZ6v0DAgGH8",
        "outputId": "da2df380-c2df-44f4-c457-9455a715843a"
      },
      "source": [
        "model.summary()"
      ],
      "execution_count": 4,
      "outputs": [
        {
          "output_type": "stream",
          "text": [
            "Model: \"sequential\"\n",
            "_________________________________________________________________\n",
            "Layer (type)                 Output Shape              Param #   \n",
            "=================================================================\n",
            "flatten (Flatten)            (None, 784)               0         \n",
            "_________________________________________________________________\n",
            "dense (Dense)                (None, 128)               100480    \n",
            "_________________________________________________________________\n",
            "dense_1 (Dense)              (None, 10)                1290      \n",
            "=================================================================\n",
            "Total params: 101,770\n",
            "Trainable params: 101,770\n",
            "Non-trainable params: 0\n",
            "_________________________________________________________________\n"
          ],
          "name": "stdout"
        }
      ]
    },
    {
      "cell_type": "markdown",
      "metadata": {
        "id": "Drr8Nax4b-dA"
      },
      "source": [
        "# Tensorflow 2와 케라스\n",
        "\n",
        "+ tensor: N차원 배열로 생각할 수 있음\n",
        "+ 고정값: tf.constant\n",
        "+ 변경되는 값: tf.Variable\n",
        "----------------------------------------------------------------\n",
        "- 타입: string, float32, float16, int8\n",
        "- 형상: ()이면 스칼라고, (n)이면 크기가 n인 벡터, (n,m)이면 크기가 nxm인 2차원 행렬\n",
        "- 순위: 차원 개수, 0이면 스칼라, 1이면 벡터, 2이면 2차원 행렬이다. \n",
        "\n",
        "### 텐서플로 그래프\n",
        "입력과 출력으로 텐서를 사용, 그래프를 사용해 연산을 표현한다.\n",
        "+ 장점\n",
        "  > CPU에서 일부 연산을 실행하고 GPU에서 남은 연산을 실행한다.\n",
        "\n",
        "  > 분산 모델의 경우 그래프의 다양한 부분을 여러 다른 컴퓨터에서 실행한다.\n",
        "  \n",
        "  > 불필요한 연산을 피하기 위해 그래프를 최적화해 계산 성능을 개선한다.\n"
      ]
    },
    {
      "cell_type": "code",
      "metadata": {
        "colab": {
          "base_uri": "https://localhost:8080/"
        },
        "id": "Ax3t46A5cAYq",
        "outputId": "c07b7803-f5e4-4935-a316-b7a05877eee2"
      },
      "source": [
        "a  = tf.constant([1,2,3])\n",
        "b = tf.constant([0,0,1])\n",
        "c = tf.add(a,b)\n",
        "print(c)"
      ],
      "execution_count": 5,
      "outputs": [
        {
          "output_type": "stream",
          "text": [
            "tf.Tensor([1 2 4], shape=(3,), dtype=int32)\n"
          ],
          "name": "stdout"
        }
      ]
    },
    {
      "cell_type": "markdown",
      "metadata": {
        "id": "ZH0M1N-Ndms7"
      },
      "source": [
        "### 텐서플로2 그래프 생성"
      ]
    },
    {
      "cell_type": "code",
      "metadata": {
        "id": "4K2U2Tziel1j"
      },
      "source": [
        "def compute(a,b,c):\n",
        "  d = a*b+c\n",
        "  e = a*b*c\n",
        "  return d,e"
      ],
      "execution_count": 6,
      "outputs": []
    },
    {
      "cell_type": "markdown",
      "metadata": {
        "id": "dq2YMZgoewT3"
      },
      "source": [
        "tensorflow2에서는 모든 연산이 정의되는 시점에 실행됨\n",
        "\n",
        "### 텐서플로 오토프래프와 tf.function"
      ]
    },
    {
      "cell_type": "code",
      "metadata": {
        "id": "jJiZ3ESRevt1"
      },
      "source": [
        "@tf.function\n",
        "def compute(a,b,c):\n",
        "  d = a*b+c\n",
        "  e = a*b*c\n",
        "  return d,e"
      ],
      "execution_count": 7,
      "outputs": []
    },
    {
      "cell_type": "markdown",
      "metadata": {
        "id": "h00SXpGSfedG"
      },
      "source": [
        "@tf.function을 함으로써 tensorflow2에서 그래프를 투명하게 생성한다. \n",
        "--> 그래프를 최적화한다.\n",
        "\n",
        "#### 오토그래프를 사용할때\n",
        "+ 모델을 다른 기기로 내보내야 할 때\n",
        "+ 성능이 무엇보다 중요하고 그래프 최적화를 통해 속도 개선이 가능할 때\n",
        "\n",
        "### 자동 미분\n",
        "+ 그래프의 장점으로 자동 미분이 가능하다. --> \"Gradient tape\"\n",
        "\n",
        "\n",
        "### 그래디언트 테이프를 사용해 오차 역전파\n",
        "+ A*X = B의 공식을 풀어야할 때--> abs(A*X -B)의 값을 0에 가깝게 해야함"
      ]
    },
    {
      "cell_type": "code",
      "metadata": {
        "id": "5grsEBWexJdt"
      },
      "source": [
        "A, B = tf.constant(3.0), tf.constant(6.0)\n",
        "X = tf.Variable(20.0)\n",
        "loss = tf.math.abs(A*X -B)"
      ],
      "execution_count": 9,
      "outputs": []
    },
    {
      "cell_type": "code",
      "metadata": {
        "colab": {
          "base_uri": "https://localhost:8080/"
        },
        "id": "sfGKSCFqxu8r",
        "outputId": "4966610e-ed59-4b32-b086-91b61f6b1654"
      },
      "source": [
        "def train_step():\n",
        "  with tf.GradientTape() as tape:\n",
        "    loss = tf.math.abs(A * X -B) #0과 차이나는 정도\n",
        "  dx = tape.gradient(loss, X) #X의 값과 loss에 대해 미분\n",
        "  print('X = {:.2f}, dx = {:.2f}'.format(X.numpy(), dx))\n",
        "  X.assign(X-dx)\n",
        "\n",
        "for i in range(7):\n",
        "  train_step()"
      ],
      "execution_count": 13,
      "outputs": [
        {
          "output_type": "stream",
          "text": [
            "X = 20.00, dx = 3.00\n",
            "X = 17.00, dx = 3.00\n",
            "X = 14.00, dx = 3.00\n",
            "X = 11.00, dx = 3.00\n",
            "X = 8.00, dx = 3.00\n",
            "X = 5.00, dx = 3.00\n",
            "X = 2.00, dx = 0.00\n"
          ],
          "name": "stdout"
        }
      ]
    },
    {
      "cell_type": "markdown",
      "metadata": {
        "id": "Jetq6zIe0xjH"
      },
      "source": [
        "### tf.function 작동방식\n",
        "\n",
        "+ 작업에 맞는 그래프를 생성한다. 한번 생성하면 캐시에 저장하기 때문에 같은 함수가 호출 될 때 다시 그래프를 생성하지 않는다.\n",
        "\n"
      ]
    },
    {
      "cell_type": "code",
      "metadata": {
        "colab": {
          "base_uri": "https://localhost:8080/"
        },
        "id": "LPTag8rO0-Ld",
        "outputId": "32650e3a-ee19-49eb-dbbf-76c8efd5c45d"
      },
      "source": [
        "@tf.function\n",
        "def identity(x):\n",
        "  print('Creating graph!')\n",
        "  return x\n",
        "\n",
        "x1 = tf.random.uniform((10,10))\n",
        "x2 = tf.random.uniform((10,10)) #담고 있는 변수는 다르지만 같은 기능을 하는 그래프임\n",
        "\n",
        "identity(x1)\n",
        "identity(x2)\n",
        "\n"
      ],
      "execution_count": 14,
      "outputs": [
        {
          "output_type": "stream",
          "text": [
            "Creating graph!\n"
          ],
          "name": "stdout"
        },
        {
          "output_type": "execute_result",
          "data": {
            "text/plain": [
              "<tf.Tensor: shape=(10, 10), dtype=float32, numpy=\n",
              "array([[0.549209  , 0.35636032, 0.27082717, 0.4492725 , 0.13679028,\n",
              "        0.18062401, 0.43467033, 0.6780201 , 0.7991804 , 0.7365551 ],\n",
              "       [0.8615266 , 0.59680843, 0.6459272 , 0.8726394 , 0.3307129 ,\n",
              "        0.30378616, 0.08883762, 0.4081745 , 0.7197554 , 0.10173333],\n",
              "       [0.68461096, 0.926479  , 0.6140243 , 0.02766776, 0.6120273 ,\n",
              "        0.7479558 , 0.6360487 , 0.22396088, 0.05399036, 0.8753573 ],\n",
              "       [0.24539876, 0.4239509 , 0.20855927, 0.31921172, 0.83510244,\n",
              "        0.5447372 , 0.5877503 , 0.47429264, 0.8954402 , 0.00107813],\n",
              "       [0.04495502, 0.9841813 , 0.6677946 , 0.4474957 , 0.9946673 ,\n",
              "        0.05413079, 0.09171927, 0.40901828, 0.67850375, 0.32516074],\n",
              "       [0.90853477, 0.23434234, 0.9049883 , 0.5356443 , 0.9953798 ,\n",
              "        0.5434228 , 0.16219926, 0.5707768 , 0.78103995, 0.74849296],\n",
              "       [0.76487386, 0.23701608, 0.00766098, 0.19620574, 0.5720842 ,\n",
              "        0.41596258, 0.9258369 , 0.77993023, 0.7341188 , 0.3733238 ],\n",
              "       [0.00761211, 0.0366478 , 0.2891749 , 0.43662834, 0.9601351 ,\n",
              "        0.02449393, 0.01596963, 0.06460774, 0.72295415, 0.5832411 ],\n",
              "       [0.85462534, 0.49602234, 0.8100985 , 0.30351567, 0.1299082 ,\n",
              "        0.34505677, 0.17963088, 0.82410085, 0.83434033, 0.01388633],\n",
              "       [0.9743432 , 0.28297806, 0.77640176, 0.56920314, 0.714553  ,\n",
              "        0.08360183, 0.06863928, 0.44435382, 0.6249181 , 0.09152496]],\n",
              "      dtype=float32)>"
            ]
          },
          "metadata": {
            "tags": []
          },
          "execution_count": 14
        }
      ]
    },
    {
      "cell_type": "markdown",
      "metadata": {
        "id": "QRIBpKwM1Wy2"
      },
      "source": [
        "x2의 'Creating graph'는 출력 되지 않음"
      ]
    },
    {
      "cell_type": "code",
      "metadata": {
        "colab": {
          "base_uri": "https://localhost:8080/"
        },
        "id": "FskFPXhW1cHM",
        "outputId": "5b136213-1f87-4ebe-d2e8-669fe795e9bd"
      },
      "source": [
        "x3 = tf.random.uniform((10,10), dtype = tf.float16) #그래프 기능에 조금만 달라져도 생성이 실행된다.\n",
        "identity(x3)"
      ],
      "execution_count": 15,
      "outputs": [
        {
          "output_type": "stream",
          "text": [
            "Creating graph!\n"
          ],
          "name": "stdout"
        },
        {
          "output_type": "execute_result",
          "data": {
            "text/plain": [
              "<tf.Tensor: shape=(10, 10), dtype=float16, numpy=\n",
              "array([[0.5713 , 0.6533 , 0.836  , 0.7656 , 0.5996 , 0.5625 , 0.4268 ,\n",
              "        0.2715 , 0.9434 , 0.9854 ],\n",
              "       [0.1387 , 0.1953 , 0.6367 , 0.03906, 0.0908 , 0.9893 , 0.3525 ,\n",
              "        0.4902 , 0.675  , 0.2412 ],\n",
              "       [0.3535 , 0.742  , 0.     , 0.2656 , 0.703  , 0.2354 , 0.626  ,\n",
              "        0.674  , 0.0928 , 0.495  ],\n",
              "       [0.54   , 0.3672 , 0.8965 , 0.2334 , 0.9854 , 0.04883, 0.3604 ,\n",
              "        0.5    , 0.1855 , 0.415  ],\n",
              "       [0.3262 , 0.7637 , 0.54   , 0.5605 , 0.4268 , 0.539  , 0.1172 ,\n",
              "        0.0752 , 0.124  , 0.8145 ],\n",
              "       [0.3994 , 0.42   , 0.7744 , 0.749  , 0.4072 , 0.8213 , 0.552  ,\n",
              "        0.1572 , 0.802  , 0.661  ],\n",
              "       [0.9473 , 0.3857 , 0.4453 , 0.4277 , 0.4912 , 0.4229 , 0.88   ,\n",
              "        0.3223 , 0.754  , 0.577  ],\n",
              "       [0.992  , 0.948  , 0.1777 , 0.296  , 0.1436 , 0.9375 , 0.3604 ,\n",
              "        0.583  , 0.99   , 0.03125],\n",
              "       [0.3691 , 0.169  , 0.4258 , 0.3018 , 0.8516 , 0.0674 , 0.06836,\n",
              "        0.6836 , 0.837  , 0.10156],\n",
              "       [0.3877 , 0.37   , 0.3809 , 0.1826 , 0.879  , 0.5693 , 0.8584 ,\n",
              "        0.1846 , 0.456  , 0.6963 ]], dtype=float16)>"
            ]
          },
          "metadata": {
            "tags": []
          },
          "execution_count": 15
        }
      ]
    },
    {
      "cell_type": "markdown",
      "metadata": {
        "id": "KEf12WUm3ABK"
      },
      "source": [
        "### 텐서플로 2에서의 변수"
      ]
    },
    {
      "cell_type": "code",
      "metadata": {
        "colab": {
          "base_uri": "https://localhost:8080/"
        },
        "id": "8INvHpBl3FxQ",
        "outputId": "e15a189b-ee41-43b3-cd6d-ddf4f9a785c1"
      },
      "source": [
        "a = tf.Variable(3, name = 'my_var')\n",
        "print(a)"
      ],
      "execution_count": 17,
      "outputs": [
        {
          "output_type": "stream",
          "text": [
            "<tf.Variable 'my_var:0' shape=() dtype=int32, numpy=3>\n"
          ],
          "name": "stdout"
        }
      ]
    },
    {
      "cell_type": "code",
      "metadata": {
        "colab": {
          "base_uri": "https://localhost:8080/"
        },
        "id": "FDi2txuG3RcW",
        "outputId": "ab462fde-e727-4df5-bc88-78b6c2b1fe1f"
      },
      "source": [
        "a.assign(a+1)\n",
        "print(a.numpy())"
      ],
      "execution_count": 18,
      "outputs": [
        {
          "output_type": "stream",
          "text": [
            "4\n"
          ],
          "name": "stdout"
        }
      ]
    },
    {
      "cell_type": "code",
      "metadata": {
        "colab": {
          "base_uri": "https://localhost:8080/"
        },
        "id": "kaL444Jq3U-I",
        "outputId": "f555683e-89ac-420b-c79e-b41b23274841"
      },
      "source": [
        "b = a+1\n",
        "print(b)"
      ],
      "execution_count": 19,
      "outputs": [
        {
          "output_type": "stream",
          "text": [
            "tf.Tensor(5, shape=(), dtype=int32)\n"
          ],
          "name": "stdout"
        }
      ]
    }
  ]
}